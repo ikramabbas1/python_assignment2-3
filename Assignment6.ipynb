{
 "cells": [
  {
   "cell_type": "code",
   "execution_count": 14,
   "metadata": {},
   "outputs": [],
   "source": [
    "class Car(object):\n",
    "    \n",
    "    def __init__(self, model,color,price,size,car_background):\n",
    "        self.model=model\n",
    "        self.color=color\n",
    "        self.price=price\n",
    "        self.size=size\n",
    "        self.car_background=car_background \n",
    "        \n",
    "        inst1=Car(\"2012\",\"red\",\"1200000\",\"12sqt\",\"sheraad\")\n",
    "        print(inst1.color)\n",
    "        print(inst1.model)\n",
    "        print(inst1.price)\n",
    "        print(inst1.size)\n",
    "        print(inst1.car_background)\n",
    "        print(inst1)\n",
    "        \n",
    "        inst2=Car(\"2013\",\"yellow\",\"1500000\",\"22sqt\",\"mehran\")\n",
    "        \n",
    "        print(inst2.color)\n",
    "        print(inst2.model)\n",
    "        print(inst2.price)\n",
    "        print(inst2.size)\n",
    "        print(inst2.car_background)\n",
    "        print(inst2)\n",
    "        \n",
    "        inst3=Car(\"2014\",\"purple\",\"1700000\",\"42sqt\",\"corrola\")\n",
    "        \n",
    "        print(inst3.color)\n",
    "        print(inst3.model)\n",
    "        print(inst3.price)\n",
    "        print(inst3.size)\n",
    "        print(inst3.car_background)\n",
    "        print(inst3)\n",
    "        \n",
    "        inst4=Car(\"2015\",\"blue\",\"1900000\",\"32sqt\",\"city\")\n",
    "        \n",
    "        print(inst4.color)\n",
    "        print(inst4.model)\n",
    "        print(inst4.price)\n",
    "        print(inst4.size)\n",
    "        print(inst4.car_background)\n",
    "        print(inst4)\n",
    "        \n",
    "        inst5=Car(\"2016\",\"grey\",\"110000\",\"30sqt\",\"alto\")\n",
    "        \n",
    "        print(inst5.color)\n",
    "        print(inst5.model)\n",
    "        print(inst5.price)\n",
    "        print(inst5.size)\n",
    "        print(inst5.car_background)\n",
    "        print(inst5)\n",
    "    "
   ]
  },
  {
   "cell_type": "code",
   "execution_count": null,
   "metadata": {},
   "outputs": [],
   "source": []
  },
  {
   "cell_type": "code",
   "execution_count": null,
   "metadata": {},
   "outputs": [],
   "source": []
  }
 ],
 "metadata": {
  "kernelspec": {
   "display_name": "Python 3",
   "language": "python",
   "name": "python3"
  },
  "language_info": {
   "codemirror_mode": {
    "name": "ipython",
    "version": 3
   },
   "file_extension": ".py",
   "mimetype": "text/x-python",
   "name": "python",
   "nbconvert_exporter": "python",
   "pygments_lexer": "ipython3",
   "version": "3.6.4"
  }
 },
 "nbformat": 4,
 "nbformat_minor": 2
}
